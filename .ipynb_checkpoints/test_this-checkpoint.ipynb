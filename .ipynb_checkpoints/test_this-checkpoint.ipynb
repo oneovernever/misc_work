{
 "cells": [
  {
   "cell_type": "code",
   "execution_count": 77,
   "metadata": {},
   "outputs": [
    {
     "name": "stdout",
     "output_type": "stream",
     "text": [
      "Collecting category_encoders\n",
      "  Downloading https://files.pythonhosted.org/packages/44/57/fcef41c248701ee62e8325026b90c432adea35555cbc870aff9cfba23727/category_encoders-2.2.2-py2.py3-none-any.whl (80kB)\n",
      "Requirement already satisfied: numpy>=1.14.0 in c:\\programdata\\anaconda3\\lib\\site-packages (from category_encoders) (1.16.5)\n",
      "Requirement already satisfied: scipy>=1.0.0 in c:\\programdata\\anaconda3\\lib\\site-packages (from category_encoders) (1.3.1)\n",
      "Requirement already satisfied: patsy>=0.5.1 in c:\\programdata\\anaconda3\\lib\\site-packages (from category_encoders) (0.5.1)\n",
      "Requirement already satisfied: statsmodels>=0.9.0 in c:\\programdata\\anaconda3\\lib\\site-packages (from category_encoders) (0.10.1)\n",
      "Requirement already satisfied: scikit-learn>=0.20.0 in c:\\programdata\\anaconda3\\lib\\site-packages (from category_encoders) (0.22.2.post1)\n",
      "Requirement already satisfied: pandas>=0.21.1 in c:\\programdata\\anaconda3\\lib\\site-packages (from category_encoders) (0.25.1)\n",
      "Requirement already satisfied: six in c:\\programdata\\anaconda3\\lib\\site-packages (from patsy>=0.5.1->category_encoders) (1.12.0)\n",
      "Requirement already satisfied: joblib>=0.11 in c:\\programdata\\anaconda3\\lib\\site-packages (from scikit-learn>=0.20.0->category_encoders) (0.13.2)\n",
      "Requirement already satisfied: python-dateutil>=2.6.1 in c:\\programdata\\anaconda3\\lib\\site-packages (from pandas>=0.21.1->category_encoders) (2.8.0)\n",
      "Requirement already satisfied: pytz>=2017.2 in c:\\programdata\\anaconda3\\lib\\site-packages (from pandas>=0.21.1->category_encoders) (2019.3)\n",
      "Installing collected packages: category-encoders\n",
      "Successfully installed category-encoders-2.2.2\n"
     ]
    }
   ],
   "source": [
    "!pip install category_encoders"
   ]
  },
  {
   "cell_type": "code",
   "execution_count": 120,
   "metadata": {},
   "outputs": [],
   "source": [
    "%matplotlib inline\n",
    "import matplotlib\n",
    "import matplotlib.pyplot as plt \n",
    "import numpy as np \n",
    "import pandas as pd \n",
    "import scipy.stats as stats\n",
    "import seaborn as sns\n",
    "import category_encoders as ce\n",
    "import datetime as dt\n",
    "from pandas.tseries.offsets import MonthBegin"
   ]
  },
  {
   "cell_type": "code",
   "execution_count": 13,
   "metadata": {},
   "outputs": [],
   "source": [
    "oct17=pd.read_csv('2017_10_csv.csv',infer_datetime_format=True, parse_dates=['yyyymmdd'])"
   ]
  },
  {
   "cell_type": "code",
   "execution_count": 50,
   "metadata": {},
   "outputs": [
    {
     "name": "stdout",
     "output_type": "stream",
     "text": [
      "<class 'pandas.core.frame.DataFrame'>\n",
      "RangeIndex: 30000 entries, 0 to 29999\n",
      "Data columns (total 5 columns):\n",
      "ID                   30000 non-null object\n",
      "Contractual_power    30000 non-null float64\n",
      "Phases               30000 non-null object\n",
      "Macrocluster         30000 non-null object\n",
      "PV_generation        30000 non-null object\n",
      "dtypes: float64(1), object(4)\n",
      "memory usage: 1.1+ MB\n"
     ]
    }
   ],
   "source": [
    "idfeat = pd.read_csv('ID_feature_csv.csv')\n",
    "idfeat.info()"
   ]
  },
  {
   "cell_type": "code",
   "execution_count": 14,
   "metadata": {},
   "outputs": [
    {
     "name": "stdout",
     "output_type": "stream",
     "text": [
      "<class 'pandas.core.frame.DataFrame'>\n",
      "RangeIndex: 11587619 entries, 0 to 11587618\n",
      "Data columns (total 4 columns):\n",
      "id          object\n",
      "yyyymmdd    datetime64[ns]\n",
      "hh          int64\n",
      "consumo     int64\n",
      "dtypes: datetime64[ns](1), int64(2), object(1)\n",
      "memory usage: 353.6+ MB\n"
     ]
    }
   ],
   "source": [
    "oct17.info()"
   ]
  },
  {
   "cell_type": "code",
   "execution_count": 15,
   "metadata": {},
   "outputs": [],
   "source": [
    "df = oct17.copy()"
   ]
  },
  {
   "cell_type": "code",
   "execution_count": 73,
   "metadata": {},
   "outputs": [
    {
     "data": {
      "text/html": [
       "<div>\n",
       "<style scoped>\n",
       "    .dataframe tbody tr th:only-of-type {\n",
       "        vertical-align: middle;\n",
       "    }\n",
       "\n",
       "    .dataframe tbody tr th {\n",
       "        vertical-align: top;\n",
       "    }\n",
       "\n",
       "    .dataframe thead th {\n",
       "        text-align: right;\n",
       "    }\n",
       "</style>\n",
       "<table border=\"1\" class=\"dataframe\">\n",
       "  <thead>\n",
       "    <tr style=\"text-align: right;\">\n",
       "      <th></th>\n",
       "      <th>id</th>\n",
       "      <th>yyyymmdd</th>\n",
       "      <th>hh</th>\n",
       "      <th>consumo</th>\n",
       "    </tr>\n",
       "  </thead>\n",
       "  <tbody>\n",
       "    <tr>\n",
       "      <td>0</td>\n",
       "      <td>ID23314</td>\n",
       "      <td>2017-10-17</td>\n",
       "      <td>13</td>\n",
       "      <td>316</td>\n",
       "    </tr>\n",
       "    <tr>\n",
       "      <td>1</td>\n",
       "      <td>ID23314</td>\n",
       "      <td>2017-10-26</td>\n",
       "      <td>2</td>\n",
       "      <td>356</td>\n",
       "    </tr>\n",
       "    <tr>\n",
       "      <td>2</td>\n",
       "      <td>ID23314</td>\n",
       "      <td>2017-10-25</td>\n",
       "      <td>21</td>\n",
       "      <td>412</td>\n",
       "    </tr>\n",
       "    <tr>\n",
       "      <td>3</td>\n",
       "      <td>ID23314</td>\n",
       "      <td>2017-10-10</td>\n",
       "      <td>2</td>\n",
       "      <td>383</td>\n",
       "    </tr>\n",
       "    <tr>\n",
       "      <td>4</td>\n",
       "      <td>ID23314</td>\n",
       "      <td>2017-10-26</td>\n",
       "      <td>15</td>\n",
       "      <td>334</td>\n",
       "    </tr>\n",
       "  </tbody>\n",
       "</table>\n",
       "</div>"
      ],
      "text/plain": [
       "        id   yyyymmdd  hh  consumo\n",
       "0  ID23314 2017-10-17  13      316\n",
       "1  ID23314 2017-10-26   2      356\n",
       "2  ID23314 2017-10-25  21      412\n",
       "3  ID23314 2017-10-10   2      383\n",
       "4  ID23314 2017-10-26  15      334"
      ]
     },
     "execution_count": 73,
     "metadata": {},
     "output_type": "execute_result"
    }
   ],
   "source": [
    "df.head()"
   ]
  },
  {
   "cell_type": "code",
   "execution_count": 56,
   "metadata": {},
   "outputs": [
    {
     "data": {
      "text/plain": [
       "<matplotlib.axes._subplots.AxesSubplot at 0x20d05d72088>"
      ]
     },
     "execution_count": 56,
     "metadata": {},
     "output_type": "execute_result"
    },
    {
     "data": {
      "image/png": "[encoded data removed]",
      "text/plain": [
       "<Figure size 864x576 with 1 Axes>"
      ]
     },
     "metadata": {
      "needs_background": "light"
     },
     "output_type": "display_data"
    }
   ],
   "source": [
    "stacked_hourly = df.groupby(['yyyymmdd','hh']).consumo.mean().unstack()\n",
    "stacked_hourly.plot(kind='bar', stacked=True,figsize=(12,8), title=\"Consumption in October\")"
   ]
  },
  {
   "cell_type": "code",
   "execution_count": 23,
   "metadata": {},
   "outputs": [
    {
     "data": {
      "text/plain": [
       "<matplotlib.axes._subplots.AxesSubplot at 0x20d0040e7c8>"
      ]
     },
     "execution_count": 23,
     "metadata": {},
     "output_type": "execute_result"
    },
    {
     "data": {
      "image/png": "[encoded data removed]",
      "text/plain": [
       "<Figure size 864x576 with 1 Axes>"
      ]
     },
     "metadata": {
      "needs_background": "light"
     },
     "output_type": "display_data"
    }
   ],
   "source": [
    "fig, ax = plt.subplots(figsize=(12,8))\n",
    "ax.set_title(\"Consumption in October\", fontsize=20, y=1.02)\n",
    "ax.set_ylabel(\"KWh\", fontsize=16)\n",
    "ax.set_xlabel(\"Hour\", fontsize=16)\n",
    "\n",
    "df.groupby('hh').consumo.mean().plot(kind='line')"
   ]
  },
  {
   "cell_type": "code",
   "execution_count": null,
   "metadata": {},
   "outputs": [],
   "source": [
    "# Let's understand the consumption density rate.\n",
    "mean=df['consumo'].mean()\n",
    "median=df['consumo'].median()\n",
    "mode=df['consumo'].mode().get_values()[0]\n",
    "asimetria_Pearson = ((mean-mode)/df['consumo'].std()).round(2)\n",
    "\n",
    "ax_hist = sns.distplot(df['consumo'],)\n",
    "ax_hist.axvline(mode, color='r', linestyle='-',lw=2)\n",
    "ax_hist.axvline(median, color='b', linestyle='-',lw=2)\n",
    "ax_hist.axvline(mean, color='g', linestyle='-',lw=2)\n",
    "ax_hist.legend(['mode','median','mean','histogram'],)\n",
    "ax_hist.set_title(\"Consumption density\",fontsize=20, y=1.02)\n",
    "ax_hist.set_xlabel(\"KWH\",fontsize=18)\n",
    "ax_hist.set_ylabel(\"Density\", fontsize=18)"
   ]
  },
  {
   "cell_type": "code",
   "execution_count": 80,
   "metadata": {},
   "outputs": [],
   "source": [
    "oct17f=oct17.set_index('id').join(idfeat.set_index('ID'), how='left')"
   ]
  },
  {
   "cell_type": "code",
   "execution_count": 58,
   "metadata": {},
   "outputs": [],
   "source": [
    "df = oct17.copy()"
   ]
  },
  {
   "cell_type": "code",
   "execution_count": 62,
   "metadata": {},
   "outputs": [
    {
     "data": {
      "image/png": "[encoded data removed]",
      "text/plain": [
       "<Figure size 432x288 with 1 Axes>"
      ]
     },
     "metadata": {
      "needs_background": "light"
     },
     "output_type": "display_data"
    },
    {
     "data": {
      "image/png": "[encoded data removed]",
      "text/plain": [
       "<Figure size 432x288 with 1 Axes>"
      ]
     },
     "metadata": {
      "needs_background": "light"
     },
     "output_type": "display_data"
    },
    {
     "data": {
      "image/png": "[encoded data removed]",
      "text/plain": [
       "<Figure size 432x288 with 1 Axes>"
      ]
     },
     "metadata": {
      "needs_background": "light"
     },
     "output_type": "display_data"
    }
   ],
   "source": [
    "y = df['consumo']\n",
    "plt.figure(1) \n",
    "plt.title('Johnson SU', size=20, y=1.02)\n",
    "sns.distplot(y, kde=False, fit=stats.johnsonsu)\n",
    "plt.show()\n",
    "#plt.savefig('images/04a-precio-johnson.png')\n",
    "\n",
    "plt.figure(2)\n",
    "plt.title('Normal', size=20, y=1.02)\n",
    "sns.distplot(y, kde=False, fit=stats.norm)\n",
    "plt.show()\n",
    "#plt.savefig('images/04b-precio-normal.png')\n",
    "\n",
    "plt.figure(3)\n",
    "plt.title('Log Normal', size=20, y=1.02)\n",
    "sns.distplot(y, kde=False, fit=stats.lognorm)\n",
    "plt.show()\n",
    "#plt.savefig('images/04c-precio-log-normal, y=1.02.png')"
   ]
  },
  {
   "cell_type": "code",
   "execution_count": 107,
   "metadata": {},
   "outputs": [
    {
     "name": "stdout",
     "output_type": "stream",
     "text": [
      "(11587619, 7)\n",
      "(3620141, 7)\n"
     ]
    }
   ],
   "source": [
    "print(oct17f.shape)\n",
    "print(oct17f.drop_duplicates(keep='first').shape)"
   ]
  },
  {
   "cell_type": "code",
   "execution_count": 108,
   "metadata": {},
   "outputs": [
    {
     "data": {
      "text/html": [
       "<div>\n",
       "<style scoped>\n",
       "    .dataframe tbody tr th:only-of-type {\n",
       "        vertical-align: middle;\n",
       "    }\n",
       "\n",
       "    .dataframe tbody tr th {\n",
       "        vertical-align: top;\n",
       "    }\n",
       "\n",
       "    .dataframe thead th {\n",
       "        text-align: right;\n",
       "    }\n",
       "</style>\n",
       "<table border=\"1\" class=\"dataframe\">\n",
       "  <thead>\n",
       "    <tr style=\"text-align: right;\">\n",
       "      <th></th>\n",
       "      <th>yyyymmdd</th>\n",
       "      <th>hh</th>\n",
       "      <th>consumo</th>\n",
       "      <th>Contractual_power</th>\n",
       "      <th>Phases</th>\n",
       "      <th>Macrocluster</th>\n",
       "      <th>PV_generation</th>\n",
       "    </tr>\n",
       "  </thead>\n",
       "  <tbody>\n",
       "    <tr>\n",
       "      <td>ID00016</td>\n",
       "      <td>2017-10-22</td>\n",
       "      <td>5</td>\n",
       "      <td>131</td>\n",
       "      <td>5.0</td>\n",
       "      <td>M</td>\n",
       "      <td>HOUSEHOLD</td>\n",
       "      <td>NO</td>\n",
       "    </tr>\n",
       "    <tr>\n",
       "      <td>ID00017</td>\n",
       "      <td>2017-10-22</td>\n",
       "      <td>9</td>\n",
       "      <td>141</td>\n",
       "      <td>5.0</td>\n",
       "      <td>M</td>\n",
       "      <td>HOUSEHOLD</td>\n",
       "      <td>NO</td>\n",
       "    </tr>\n",
       "    <tr>\n",
       "      <td>ID00017</td>\n",
       "      <td>2017-10-02</td>\n",
       "      <td>13</td>\n",
       "      <td>462</td>\n",
       "      <td>5.0</td>\n",
       "      <td>M</td>\n",
       "      <td>HOUSEHOLD</td>\n",
       "      <td>NO</td>\n",
       "    </tr>\n",
       "    <tr>\n",
       "      <td>ID00019</td>\n",
       "      <td>2017-10-26</td>\n",
       "      <td>4</td>\n",
       "      <td>182</td>\n",
       "      <td>5.0</td>\n",
       "      <td>M</td>\n",
       "      <td>HOUSEHOLD</td>\n",
       "      <td>NO</td>\n",
       "    </tr>\n",
       "    <tr>\n",
       "      <td>ID00019</td>\n",
       "      <td>2017-10-27</td>\n",
       "      <td>14</td>\n",
       "      <td>122</td>\n",
       "      <td>5.0</td>\n",
       "      <td>M</td>\n",
       "      <td>HOUSEHOLD</td>\n",
       "      <td>NO</td>\n",
       "    </tr>\n",
       "    <tr>\n",
       "      <td>ID00021</td>\n",
       "      <td>2017-10-30</td>\n",
       "      <td>10</td>\n",
       "      <td>658</td>\n",
       "      <td>2.5</td>\n",
       "      <td>M</td>\n",
       "      <td>HOUSEHOLD</td>\n",
       "      <td>NO</td>\n",
       "    </tr>\n",
       "    <tr>\n",
       "      <td>ID00024</td>\n",
       "      <td>2017-10-03</td>\n",
       "      <td>10</td>\n",
       "      <td>236</td>\n",
       "      <td>2.5</td>\n",
       "      <td>M</td>\n",
       "      <td>HOUSEHOLD</td>\n",
       "      <td>NO</td>\n",
       "    </tr>\n",
       "    <tr>\n",
       "      <td>ID00024</td>\n",
       "      <td>2017-10-26</td>\n",
       "      <td>20</td>\n",
       "      <td>809</td>\n",
       "      <td>2.5</td>\n",
       "      <td>M</td>\n",
       "      <td>HOUSEHOLD</td>\n",
       "      <td>NO</td>\n",
       "    </tr>\n",
       "    <tr>\n",
       "      <td>ID00030</td>\n",
       "      <td>2017-10-23</td>\n",
       "      <td>5</td>\n",
       "      <td>106</td>\n",
       "      <td>5.0</td>\n",
       "      <td>M</td>\n",
       "      <td>HOUSEHOLD</td>\n",
       "      <td>NO</td>\n",
       "    </tr>\n",
       "    <tr>\n",
       "      <td>ID00030</td>\n",
       "      <td>2017-10-27</td>\n",
       "      <td>5</td>\n",
       "      <td>66</td>\n",
       "      <td>5.0</td>\n",
       "      <td>M</td>\n",
       "      <td>HOUSEHOLD</td>\n",
       "      <td>NO</td>\n",
       "    </tr>\n",
       "    <tr>\n",
       "      <td>ID00030</td>\n",
       "      <td>2017-10-20</td>\n",
       "      <td>6</td>\n",
       "      <td>93</td>\n",
       "      <td>5.0</td>\n",
       "      <td>M</td>\n",
       "      <td>HOUSEHOLD</td>\n",
       "      <td>NO</td>\n",
       "    </tr>\n",
       "    <tr>\n",
       "      <td>ID00030</td>\n",
       "      <td>2017-10-14</td>\n",
       "      <td>5</td>\n",
       "      <td>81</td>\n",
       "      <td>5.0</td>\n",
       "      <td>M</td>\n",
       "      <td>HOUSEHOLD</td>\n",
       "      <td>NO</td>\n",
       "    </tr>\n",
       "    <tr>\n",
       "      <td>ID00030</td>\n",
       "      <td>2017-10-06</td>\n",
       "      <td>23</td>\n",
       "      <td>121</td>\n",
       "      <td>5.0</td>\n",
       "      <td>M</td>\n",
       "      <td>HOUSEHOLD</td>\n",
       "      <td>NO</td>\n",
       "    </tr>\n",
       "    <tr>\n",
       "      <td>ID00030</td>\n",
       "      <td>2017-10-21</td>\n",
       "      <td>18</td>\n",
       "      <td>206</td>\n",
       "      <td>5.0</td>\n",
       "      <td>M</td>\n",
       "      <td>HOUSEHOLD</td>\n",
       "      <td>NO</td>\n",
       "    </tr>\n",
       "    <tr>\n",
       "      <td>ID00030</td>\n",
       "      <td>2017-10-01</td>\n",
       "      <td>19</td>\n",
       "      <td>332</td>\n",
       "      <td>5.0</td>\n",
       "      <td>M</td>\n",
       "      <td>HOUSEHOLD</td>\n",
       "      <td>NO</td>\n",
       "    </tr>\n",
       "    <tr>\n",
       "      <td>ID00030</td>\n",
       "      <td>2017-10-02</td>\n",
       "      <td>15</td>\n",
       "      <td>359</td>\n",
       "      <td>5.0</td>\n",
       "      <td>M</td>\n",
       "      <td>HOUSEHOLD</td>\n",
       "      <td>NO</td>\n",
       "    </tr>\n",
       "    <tr>\n",
       "      <td>ID00030</td>\n",
       "      <td>2017-10-02</td>\n",
       "      <td>11</td>\n",
       "      <td>378</td>\n",
       "      <td>5.0</td>\n",
       "      <td>M</td>\n",
       "      <td>HOUSEHOLD</td>\n",
       "      <td>NO</td>\n",
       "    </tr>\n",
       "    <tr>\n",
       "      <td>ID00031</td>\n",
       "      <td>2017-10-08</td>\n",
       "      <td>5</td>\n",
       "      <td>60</td>\n",
       "      <td>2.5</td>\n",
       "      <td>M</td>\n",
       "      <td>HOUSEHOLD</td>\n",
       "      <td>NO</td>\n",
       "    </tr>\n",
       "    <tr>\n",
       "      <td>ID00031</td>\n",
       "      <td>2017-10-10</td>\n",
       "      <td>1</td>\n",
       "      <td>91</td>\n",
       "      <td>2.5</td>\n",
       "      <td>M</td>\n",
       "      <td>HOUSEHOLD</td>\n",
       "      <td>NO</td>\n",
       "    </tr>\n",
       "    <tr>\n",
       "      <td>ID00031</td>\n",
       "      <td>2017-10-02</td>\n",
       "      <td>6</td>\n",
       "      <td>57</td>\n",
       "      <td>2.5</td>\n",
       "      <td>M</td>\n",
       "      <td>HOUSEHOLD</td>\n",
       "      <td>NO</td>\n",
       "    </tr>\n",
       "  </tbody>\n",
       "</table>\n",
       "</div>"
      ],
      "text/plain": [
       "          yyyymmdd  hh  consumo  Contractual_power Phases Macrocluster  \\\n",
       "ID00016 2017-10-22   5      131                5.0      M    HOUSEHOLD   \n",
       "ID00017 2017-10-22   9      141                5.0      M    HOUSEHOLD   \n",
       "ID00017 2017-10-02  13      462                5.0      M    HOUSEHOLD   \n",
       "ID00019 2017-10-26   4      182                5.0      M    HOUSEHOLD   \n",
       "ID00019 2017-10-27  14      122                5.0      M    HOUSEHOLD   \n",
       "ID00021 2017-10-30  10      658                2.5      M    HOUSEHOLD   \n",
       "ID00024 2017-10-03  10      236                2.5      M    HOUSEHOLD   \n",
       "ID00024 2017-10-26  20      809                2.5      M    HOUSEHOLD   \n",
       "ID00030 2017-10-23   5      106                5.0      M    HOUSEHOLD   \n",
       "ID00030 2017-10-27   5       66                5.0      M    HOUSEHOLD   \n",
       "ID00030 2017-10-20   6       93                5.0      M    HOUSEHOLD   \n",
       "ID00030 2017-10-14   5       81                5.0      M    HOUSEHOLD   \n",
       "ID00030 2017-10-06  23      121                5.0      M    HOUSEHOLD   \n",
       "ID00030 2017-10-21  18      206                5.0      M    HOUSEHOLD   \n",
       "ID00030 2017-10-01  19      332                5.0      M    HOUSEHOLD   \n",
       "ID00030 2017-10-02  15      359                5.0      M    HOUSEHOLD   \n",
       "ID00030 2017-10-02  11      378                5.0      M    HOUSEHOLD   \n",
       "ID00031 2017-10-08   5       60                2.5      M    HOUSEHOLD   \n",
       "ID00031 2017-10-10   1       91                2.5      M    HOUSEHOLD   \n",
       "ID00031 2017-10-02   6       57                2.5      M    HOUSEHOLD   \n",
       "\n",
       "        PV_generation  \n",
       "ID00016            NO  \n",
       "ID00017            NO  \n",
       "ID00017            NO  \n",
       "ID00019            NO  \n",
       "ID00019            NO  \n",
       "ID00021            NO  \n",
       "ID00024            NO  \n",
       "ID00024            NO  \n",
       "ID00030            NO  \n",
       "ID00030            NO  \n",
       "ID00030            NO  \n",
       "ID00030            NO  \n",
       "ID00030            NO  \n",
       "ID00030            NO  \n",
       "ID00030            NO  \n",
       "ID00030            NO  \n",
       "ID00030            NO  \n",
       "ID00031            NO  \n",
       "ID00031            NO  \n",
       "ID00031            NO  "
      ]
     },
     "execution_count": 108,
     "metadata": {},
     "output_type": "execute_result"
    }
   ],
   "source": [
    "dupli=oct17f[oct17f.duplicated()]\n",
    "\n",
    "dupli.head(20)"
   ]
  },
  {
   "cell_type": "code",
   "execution_count": 121,
   "metadata": {},
   "outputs": [
    {
     "ename": "TypeError",
     "evalue": "an integer is required (got type Timestamp)",
     "output_type": "error",
     "traceback": [
      "\u001b[1;31m---------------------------------------------------------------------------\u001b[0m",
      "\u001b[1;31mTypeError\u001b[0m                                 Traceback (most recent call last)",
      "\u001b[1;32m<ipython-input-121-3f873995a522>\u001b[0m in \u001b[0;36m<module>\u001b[1;34m\u001b[0m\n\u001b[0;32m      1\u001b[0m \u001b[1;31m#pd.to_datetime(df['yyyymmdd']).apply(lambda x: x.date())\u001b[0m\u001b[1;33m\u001b[0m\u001b[1;33m\u001b[0m\u001b[1;33m\u001b[0m\u001b[0m\n\u001b[1;32m----> 2\u001b[1;33m \u001b[0moct17f\u001b[0m\u001b[1;33m[\u001b[0m\u001b[1;34m'DateTime'\u001b[0m\u001b[1;33m]\u001b[0m \u001b[1;33m=\u001b[0m \u001b[0mpd\u001b[0m\u001b[1;33m.\u001b[0m\u001b[0mto_datetime\u001b[0m\u001b[1;33m(\u001b[0m\u001b[0moct17f\u001b[0m\u001b[1;33m[\u001b[0m\u001b[1;34m'yyyymmdd'\u001b[0m\u001b[1;33m]\u001b[0m\u001b[1;33m.\u001b[0m\u001b[0mmap\u001b[0m\u001b[1;33m(\u001b[0m\u001b[0mdt\u001b[0m\u001b[1;33m.\u001b[0m\u001b[0mdate\u001b[0m\u001b[1;33m)\u001b[0m \u001b[1;33m+\u001b[0m \u001b[1;34m' '\u001b[0m \u001b[1;33m+\u001b[0m \u001b[0moct17f\u001b[0m\u001b[1;33m[\u001b[0m\u001b[1;34m'hh'\u001b[0m\u001b[1;33m]\u001b[0m\u001b[1;33m)\u001b[0m\u001b[1;33m\u001b[0m\u001b[1;33m\u001b[0m\u001b[0m\n\u001b[0m\u001b[0;32m      3\u001b[0m \u001b[0moct17f\u001b[0m\u001b[1;33m.\u001b[0m\u001b[0mhead\u001b[0m\u001b[1;33m(\u001b[0m\u001b[1;33m)\u001b[0m\u001b[1;33m\u001b[0m\u001b[1;33m\u001b[0m\u001b[0m\n",
      "\u001b[1;32mC:\\ProgramData\\Anaconda3\\lib\\site-packages\\pandas\\core\\series.py\u001b[0m in \u001b[0;36mmap\u001b[1;34m(self, arg, na_action)\u001b[0m\n\u001b[0;32m   3823\u001b[0m         \u001b[0mdtype\u001b[0m\u001b[1;33m:\u001b[0m \u001b[0mobject\u001b[0m\u001b[1;33m\u001b[0m\u001b[1;33m\u001b[0m\u001b[0m\n\u001b[0;32m   3824\u001b[0m         \"\"\"\n\u001b[1;32m-> 3825\u001b[1;33m         \u001b[0mnew_values\u001b[0m \u001b[1;33m=\u001b[0m \u001b[0msuper\u001b[0m\u001b[1;33m(\u001b[0m\u001b[1;33m)\u001b[0m\u001b[1;33m.\u001b[0m\u001b[0m_map_values\u001b[0m\u001b[1;33m(\u001b[0m\u001b[0marg\u001b[0m\u001b[1;33m,\u001b[0m \u001b[0mna_action\u001b[0m\u001b[1;33m=\u001b[0m\u001b[0mna_action\u001b[0m\u001b[1;33m)\u001b[0m\u001b[1;33m\u001b[0m\u001b[1;33m\u001b[0m\u001b[0m\n\u001b[0m\u001b[0;32m   3826\u001b[0m         \u001b[1;32mreturn\u001b[0m \u001b[0mself\u001b[0m\u001b[1;33m.\u001b[0m\u001b[0m_constructor\u001b[0m\u001b[1;33m(\u001b[0m\u001b[0mnew_values\u001b[0m\u001b[1;33m,\u001b[0m \u001b[0mindex\u001b[0m\u001b[1;33m=\u001b[0m\u001b[0mself\u001b[0m\u001b[1;33m.\u001b[0m\u001b[0mindex\u001b[0m\u001b[1;33m)\u001b[0m\u001b[1;33m.\u001b[0m\u001b[0m__finalize__\u001b[0m\u001b[1;33m(\u001b[0m\u001b[0mself\u001b[0m\u001b[1;33m)\u001b[0m\u001b[1;33m\u001b[0m\u001b[1;33m\u001b[0m\u001b[0m\n\u001b[0;32m   3827\u001b[0m \u001b[1;33m\u001b[0m\u001b[0m\n",
      "\u001b[1;32mC:\\ProgramData\\Anaconda3\\lib\\site-packages\\pandas\\core\\base.py\u001b[0m in \u001b[0;36m_map_values\u001b[1;34m(self, mapper, na_action)\u001b[0m\n\u001b[0;32m   1298\u001b[0m \u001b[1;33m\u001b[0m\u001b[0m\n\u001b[0;32m   1299\u001b[0m         \u001b[1;31m# mapper is a function\u001b[0m\u001b[1;33m\u001b[0m\u001b[1;33m\u001b[0m\u001b[1;33m\u001b[0m\u001b[0m\n\u001b[1;32m-> 1300\u001b[1;33m         \u001b[0mnew_values\u001b[0m \u001b[1;33m=\u001b[0m \u001b[0mmap_f\u001b[0m\u001b[1;33m(\u001b[0m\u001b[0mvalues\u001b[0m\u001b[1;33m,\u001b[0m \u001b[0mmapper\u001b[0m\u001b[1;33m)\u001b[0m\u001b[1;33m\u001b[0m\u001b[1;33m\u001b[0m\u001b[0m\n\u001b[0m\u001b[0;32m   1301\u001b[0m \u001b[1;33m\u001b[0m\u001b[0m\n\u001b[0;32m   1302\u001b[0m         \u001b[1;32mreturn\u001b[0m \u001b[0mnew_values\u001b[0m\u001b[1;33m\u001b[0m\u001b[1;33m\u001b[0m\u001b[0m\n",
      "\u001b[1;32mpandas\\_libs\\lib.pyx\u001b[0m in \u001b[0;36mpandas._libs.lib.map_infer\u001b[1;34m()\u001b[0m\n",
      "\u001b[1;31mTypeError\u001b[0m: an integer is required (got type Timestamp)"
     ]
    }
   ],
   "source": [
    "#pd.to_datetime(df['yyyymmdd']).apply(lambda x: x.date())\n",
    "oct17f['DateTime'] = pd.to_datetime(oct17f['yyyymmdd'].map(dt.date) + ' ' + oct17f['hh'])\n",
    "oct17f.head()"
   ]
  },
  {
   "cell_type": "code",
   "execution_count": 104,
   "metadata": {},
   "outputs": [
    {
     "ename": "ValueError",
     "evalue": "Must pass DataFrame with boolean values only",
     "output_type": "error",
     "traceback": [
      "\u001b[1;31m---------------------------------------------------------------------------\u001b[0m",
      "\u001b[1;31mValueError\u001b[0m                                Traceback (most recent call last)",
      "\u001b[1;32m<ipython-input-104-70afe554024a>\u001b[0m in \u001b[0;36m<module>\u001b[1;34m\u001b[0m\n\u001b[0;32m      1\u001b[0m \u001b[0mone_hot_enc\u001b[0m \u001b[1;33m=\u001b[0m \u001b[0mce\u001b[0m\u001b[1;33m.\u001b[0m\u001b[0mOneHotEncoder\u001b[0m\u001b[1;33m(\u001b[0m\u001b[1;33m)\u001b[0m\u001b[1;33m\u001b[0m\u001b[1;33m\u001b[0m\u001b[0m\n\u001b[0;32m      2\u001b[0m \u001b[0mcat_features\u001b[0m\u001b[1;33m=\u001b[0m\u001b[0moct17f\u001b[0m\u001b[1;33m[\u001b[0m\u001b[1;33m[\u001b[0m\u001b[1;34m'Phases'\u001b[0m\u001b[1;33m,\u001b[0m\u001b[1;34m'Macrocluster'\u001b[0m\u001b[1;33m,\u001b[0m\u001b[1;34m'PV_generation'\u001b[0m\u001b[1;33m]\u001b[0m\u001b[1;33m]\u001b[0m\u001b[1;33m\u001b[0m\u001b[1;33m\u001b[0m\u001b[0m\n\u001b[1;32m----> 3\u001b[1;33m \u001b[0mone_hot_encoded\u001b[0m \u001b[1;33m=\u001b[0m \u001b[0mone_hot_enc\u001b[0m\u001b[1;33m.\u001b[0m\u001b[0mfit_transform\u001b[0m\u001b[1;33m(\u001b[0m\u001b[0moct17f\u001b[0m\u001b[1;33m[\u001b[0m\u001b[0mcat_features\u001b[0m\u001b[1;33m]\u001b[0m\u001b[1;33m)\u001b[0m\u001b[1;33m.\u001b[0m\u001b[0mtoarray\u001b[0m\u001b[1;33m(\u001b[0m\u001b[1;33m)\u001b[0m\u001b[1;33m\u001b[0m\u001b[1;33m\u001b[0m\u001b[0m\n\u001b[0m\u001b[0;32m      4\u001b[0m \u001b[0mone_hot_encoded\u001b[0m\u001b[1;33m.\u001b[0m\u001b[0mhead\u001b[0m\u001b[1;33m(\u001b[0m\u001b[1;33m)\u001b[0m\u001b[1;33m\u001b[0m\u001b[1;33m\u001b[0m\u001b[0m\n\u001b[0;32m      5\u001b[0m \u001b[1;31m#oct17f = oct17f.join(one_hot_encoded.set_index('index'),how='left',rsuffix='_oh')\u001b[0m\u001b[1;33m\u001b[0m\u001b[1;33m\u001b[0m\u001b[1;33m\u001b[0m\u001b[0m\n",
      "\u001b[1;32mC:\\ProgramData\\Anaconda3\\lib\\site-packages\\pandas\\core\\frame.py\u001b[0m in \u001b[0;36m__getitem__\u001b[1;34m(self, key)\u001b[0m\n\u001b[0;32m   2965\u001b[0m         \u001b[1;31m# Do we have a (boolean) DataFrame?\u001b[0m\u001b[1;33m\u001b[0m\u001b[1;33m\u001b[0m\u001b[1;33m\u001b[0m\u001b[0m\n\u001b[0;32m   2966\u001b[0m         \u001b[1;32mif\u001b[0m \u001b[0misinstance\u001b[0m\u001b[1;33m(\u001b[0m\u001b[0mkey\u001b[0m\u001b[1;33m,\u001b[0m \u001b[0mDataFrame\u001b[0m\u001b[1;33m)\u001b[0m\u001b[1;33m:\u001b[0m\u001b[1;33m\u001b[0m\u001b[1;33m\u001b[0m\u001b[0m\n\u001b[1;32m-> 2967\u001b[1;33m             \u001b[1;32mreturn\u001b[0m \u001b[0mself\u001b[0m\u001b[1;33m.\u001b[0m\u001b[0m_getitem_frame\u001b[0m\u001b[1;33m(\u001b[0m\u001b[0mkey\u001b[0m\u001b[1;33m)\u001b[0m\u001b[1;33m\u001b[0m\u001b[1;33m\u001b[0m\u001b[0m\n\u001b[0m\u001b[0;32m   2968\u001b[0m \u001b[1;33m\u001b[0m\u001b[0m\n\u001b[0;32m   2969\u001b[0m         \u001b[1;31m# Do we have a (boolean) 1d indexer?\u001b[0m\u001b[1;33m\u001b[0m\u001b[1;33m\u001b[0m\u001b[1;33m\u001b[0m\u001b[0m\n",
      "\u001b[1;32mC:\\ProgramData\\Anaconda3\\lib\\site-packages\\pandas\\core\\frame.py\u001b[0m in \u001b[0;36m_getitem_frame\u001b[1;34m(self, key)\u001b[0m\n\u001b[0;32m   3064\u001b[0m     \u001b[1;32mdef\u001b[0m \u001b[0m_getitem_frame\u001b[0m\u001b[1;33m(\u001b[0m\u001b[0mself\u001b[0m\u001b[1;33m,\u001b[0m \u001b[0mkey\u001b[0m\u001b[1;33m)\u001b[0m\u001b[1;33m:\u001b[0m\u001b[1;33m\u001b[0m\u001b[1;33m\u001b[0m\u001b[0m\n\u001b[0;32m   3065\u001b[0m         \u001b[1;32mif\u001b[0m \u001b[0mkey\u001b[0m\u001b[1;33m.\u001b[0m\u001b[0mvalues\u001b[0m\u001b[1;33m.\u001b[0m\u001b[0msize\u001b[0m \u001b[1;32mand\u001b[0m \u001b[1;32mnot\u001b[0m \u001b[0mis_bool_dtype\u001b[0m\u001b[1;33m(\u001b[0m\u001b[0mkey\u001b[0m\u001b[1;33m.\u001b[0m\u001b[0mvalues\u001b[0m\u001b[1;33m)\u001b[0m\u001b[1;33m:\u001b[0m\u001b[1;33m\u001b[0m\u001b[1;33m\u001b[0m\u001b[0m\n\u001b[1;32m-> 3066\u001b[1;33m             \u001b[1;32mraise\u001b[0m \u001b[0mValueError\u001b[0m\u001b[1;33m(\u001b[0m\u001b[1;34m\"Must pass DataFrame with boolean values only\"\u001b[0m\u001b[1;33m)\u001b[0m\u001b[1;33m\u001b[0m\u001b[1;33m\u001b[0m\u001b[0m\n\u001b[0m\u001b[0;32m   3067\u001b[0m         \u001b[1;32mreturn\u001b[0m \u001b[0mself\u001b[0m\u001b[1;33m.\u001b[0m\u001b[0mwhere\u001b[0m\u001b[1;33m(\u001b[0m\u001b[0mkey\u001b[0m\u001b[1;33m)\u001b[0m\u001b[1;33m\u001b[0m\u001b[1;33m\u001b[0m\u001b[0m\n\u001b[0;32m   3068\u001b[0m \u001b[1;33m\u001b[0m\u001b[0m\n",
      "\u001b[1;31mValueError\u001b[0m: Must pass DataFrame with boolean values only"
     ]
    }
   ],
   "source": [
    "one_hot_enc = ce.OneHotEncoder()\n",
    "cat_features=oct17f[['Phases','Macrocluster','PV_generation']]\n",
    "one_hot_encoded = one_hot_enc.fit_transform(oct17f[cat_features])\n",
    "one_hot_encoded.head()\n",
    "#oct17f = oct17f.join(one_hot_encoded.set_index('index'),how='left',rsuffix='_oh')\n",
    "#oct17f.head()"
   ]
  },
  {
   "cell_type": "code",
   "execution_count": 82,
   "metadata": {},
   "outputs": [
    {
     "data": {
      "image/png": "[encoded data removed]",
      "text/plain": [
       "<Figure size 1440x1440 with 2 Axes>"
      ]
     },
     "metadata": {
      "needs_background": "light"
     },
     "output_type": "display_data"
    }
   ],
   "source": [
    "plt.figure(figsize=(20,20))\n",
    "cm= oct17f.corr()\n",
    "hm = sns.heatmap(cm, annot=True, fmt='.2f', cmap=\"YlGn\")\n",
    "hm.set_title('Correlation Matrix', fontsize=20, y=1.02)\n",
    "\n",
    "plt.savefig(\"client_feat_corr.png\")\n",
    "\n",
    "plt.show()"
   ]
  },
  {
   "cell_type": "code",
   "execution_count": null,
   "metadata": {},
   "outputs": [],
   "source": [
    "#Switch to different months.\n",
    "#https://python-tricks.com/stack-plots-in-matplotlib/\n",
    "months = ['January', 'February', 'March', 'April', 'May'] \n",
    "Organic = [300,400,100,200,100] \n",
    "Affiliate = [20,40,20,10,30] \n",
    "Promotions = [100,200,100,300,100]\n",
    "Social = [150,145,300,124,160] \n",
    "plt.plot([],[],color='green', label='Organic', linewidth=5) \n",
    "plt.plot([],[],color='blue', label='Affiliate', linewidth=5) \n",
    "plt.plot([],[],color='pink', label='Promotions', linewidth=5)\n",
    "plt.plot([],[],color='yellow', label='Social', linewidth=5)\n",
    "plt.stackplot(months, Organic, Affiliate,Promotions, Social, colors=['green','blue','pink','yellow']) \n",
    "plt.xlabel('x') \n",
    "plt.ylabel('y') \n",
    "plt.yticks(np.arange(0, 1000, step=100)) \n",
    "plt.title('Sales Report') \n",
    "plt.legend() \n",
    "plt.show()"
   ]
  }
 ],
 "metadata": {
  "kernelspec": {
   "display_name": "Python 3",
   "language": "python",
   "name": "python3"
  },
  "language_info": {
   "codemirror_mode": {
    "name": "ipython",
    "version": 3
   },
   "file_extension": ".py",
   "mimetype": "text/x-python",
   "name": "python",
   "nbconvert_exporter": "python",
   "pygments_lexer": "ipython3",
   "version": "3.7.4"
  }
 },
 "nbformat": 4,
 "nbformat_minor": 2
}
